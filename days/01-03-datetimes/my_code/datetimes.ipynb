{
  "cells": [
    {
      "cell_type": "markdown",
      "metadata": {
        "collapsed": true,
        "pycharm": {
          "is_executing": false,
          "name": "#%% md\n"
        }
      },
      "source": "Datetime"
    },
    {
      "cell_type": "code",
      "execution_count": 23,
      "outputs": [
        {
          "name": "stdout",
          "text": [
            "testrun\n"
          ],
          "output_type": "stream"
        }
      ],
      "source": "print(\u0027testrun\u0027)",
      "metadata": {
        "pycharm": {
          "metadata": false,
          "name": "#%%\n",
          "is_executing": false
        }
      }
    },
    {
      "cell_type": "code",
      "execution_count": 24,
      "outputs": [
        {
          "data": {
            "text/plain": "datetime.datetime(2019, 4, 1, 21, 2, 17, 540675)"
          },
          "metadata": {},
          "output_type": "execute_result",
          "execution_count": 24
        }
      ],
      "source": "from datetime import datetime\nfrom datetime import date\n\ndatetime.today()",
      "metadata": {
        "pycharm": {
          "metadata": false,
          "name": "#%%\n",
          "is_executing": false
        }
      }
    },
    {
      "cell_type": "code",
      "execution_count": 25,
      "outputs": [
        {
          "name": "stdout",
          "text": [
            "2019-04-01 21:02:17.962779\n"
          ],
          "output_type": "stream"
        }
      ],
      "source": "today \u003d datetime.today()\nprint(today)",
      "metadata": {
        "pycharm": {
          "metadata": false,
          "name": "#%%\n",
          "is_executing": false
        }
      }
    },
    {
      "cell_type": "code",
      "execution_count": 26,
      "outputs": [
        {
          "data": {
            "text/plain": "datetime.datetime"
          },
          "metadata": {},
          "output_type": "execute_result",
          "execution_count": 26
        }
      ],
      "source": "type(today)\n",
      "metadata": {
        "pycharm": {
          "metadata": false,
          "name": "#%%\n",
          "is_executing": false
        }
      }
    },
    {
      "cell_type": "code",
      "execution_count": 27,
      "outputs": [
        {
          "data": {
            "text/plain": "datetime.date"
          },
          "metadata": {},
          "output_type": "execute_result",
          "execution_count": 27
        }
      ],
      "source": "todaydate \u003d date.today()\ntype(todaydate)",
      "metadata": {
        "pycharm": {
          "metadata": false,
          "name": "#%%\n",
          "is_executing": false
        }
      }
    },
    {
      "cell_type": "code",
      "execution_count": 28,
      "outputs": [
        {
          "data": {
            "text/plain": "2019"
          },
          "metadata": {},
          "output_type": "execute_result",
          "execution_count": 28
        }
      ],
      "source": "today.year",
      "metadata": {
        "pycharm": {
          "metadata": false,
          "name": "#%%\n",
          "is_executing": false
        }
      }
    },
    {
      "cell_type": "code",
      "execution_count": 29,
      "outputs": [
        {
          "data": {
            "text/plain": "4"
          },
          "metadata": {},
          "output_type": "execute_result",
          "execution_count": 29
        }
      ],
      "source": "today.month",
      "metadata": {
        "pycharm": {
          "metadata": false,
          "name": "#%%\n",
          "is_executing": false
        }
      }
    },
    {
      "cell_type": "code",
      "execution_count": 30,
      "outputs": [
        {
          "data": {
            "text/plain": "1"
          },
          "metadata": {},
          "output_type": "execute_result",
          "execution_count": 30
        }
      ],
      "source": "today.day",
      "metadata": {
        "pycharm": {
          "metadata": false,
          "name": "#%%\n",
          "is_executing": false
        }
      }
    },
    {
      "cell_type": "code",
      "execution_count": 31,
      "outputs": [
        {
          "data": {
            "text/plain": "datetime.date(2019, 12, 25)"
          },
          "metadata": {},
          "output_type": "execute_result",
          "execution_count": 31
        }
      ],
      "source": "christmas \u003d date(2019, 12, 25)\nchristmas",
      "metadata": {
        "pycharm": {
          "metadata": false,
          "name": "#%%\n",
          "is_executing": false
        }
      }
    },
    {
      "cell_type": "code",
      "execution_count": 39,
      "outputs": [
        {
          "name": "stdout",
          "text": [
            "Sorry, there are still 268 until Christmas!",
            "\n"
          ],
          "output_type": "stream"
        }
      ],
      "source": "if christmas is not todaydate:\n    print(\"Sorry, there are still \" + str((christmas - todaydate).days) + \" until Christmas!\")\nelse:\n    print(\"Yay, it\u0027s Christmas!\")",
      "metadata": {
        "pycharm": {
          "metadata": false,
          "name": "#%%\n",
          "is_executing": false
        }
      }
    },
    {
      "cell_type": "markdown",
      "source": "Timedelta",
      "metadata": {
        "pycharm": {
          "metadata": false,
          "name": "#%% md\n"
        }
      }
    },
    {
      "cell_type": "code",
      "source": "from datetime import timedelta\n\nt \u003d timedelta(days \u003d 4, hours \u003d 10)\nprint(t)\n",
      "metadata": {
        "pycharm": {
          "metadata": false,
          "name": "#%%\n",
          "is_executing": false
        }
      },
      "execution_count": 41,
      "outputs": [
        {
          "name": "stdout",
          "text": [
            "4 days, 10:00:00\n"
          ],
          "output_type": "stream"
        }
      ]
    },
    {
      "cell_type": "code",
      "execution_count": 42,
      "outputs": [
        {
          "data": {
            "text/plain": "4"
          },
          "metadata": {},
          "output_type": "execute_result",
          "execution_count": 42
        }
      ],
      "source": "t.days",
      "metadata": {
        "pycharm": {
          "metadata": false,
          "name": "#%%\n",
          "is_executing": false
        }
      }
    },
    {
      "cell_type": "code",
      "execution_count": 43,
      "outputs": [
        {
          "data": {
            "text/plain": "36000"
          },
          "metadata": {},
          "output_type": "execute_result",
          "execution_count": 43
        }
      ],
      "source": "t.seconds",
      "metadata": {
        "pycharm": {
          "metadata": false,
          "name": "#%%\n",
          "is_executing": false
        }
      }
    },
    {
      "cell_type": "code",
      "execution_count": 44,
      "outputs": [
        {
          "traceback": [
            "\u001b[0;31m---------------------------------------------------------------------------\u001b[0m",
            "\u001b[0;31mAttributeError\u001b[0m                            Traceback (most recent call last)",
            "\u001b[0;32m\u003cipython-input-44-84cd3e9e821b\u003e\u001b[0m in \u001b[0;36m\u003cmodule\u003e\u001b[0;34m\u001b[0m\n\u001b[0;32m----\u003e 1\u001b[0;31m \u001b[0mt\u001b[0m\u001b[0;34m.\u001b[0m\u001b[0mhours\u001b[0m \u001b[0;31m# will throw an error!\u001b[0m\u001b[0;34m\u001b[0m\u001b[0m\n\u001b[0m",
            "\u001b[0;31mAttributeError\u001b[0m: \u0027datetime.timedelta\u0027 object has no attribute \u0027hours\u0027"
          ],
          "ename": "AttributeError",
          "evalue": "\u0027datetime.timedelta\u0027 object has no attribute \u0027hours\u0027",
          "output_type": "error"
        }
      ],
      "source": "t.hours # will throw an error!",
      "metadata": {
        "pycharm": {
          "metadata": false,
          "name": "#%%\n",
          "is_executing": false
        }
      }
    },
    {
      "cell_type": "code",
      "execution_count": 45,
      "outputs": [
        {
          "data": {
            "text/plain": "10.0"
          },
          "metadata": {},
          "output_type": "execute_result",
          "execution_count": 45
        }
      ],
      "source": "t.seconds / 60 / 60",
      "metadata": {
        "pycharm": {
          "metadata": false,
          "name": "#%%\n",
          "is_executing": false
        }
      }
    },
    {
      "cell_type": "code",
      "execution_count": 47,
      "outputs": [
        {
          "data": {
            "text/plain": "datetime.datetime(2019, 4, 1, 21, 7, 52, 394548)"
          },
          "metadata": {},
          "output_type": "execute_result",
          "execution_count": 47
        }
      ],
      "source": "eta \u003d timedelta(hours\u003d6)\ntoday \u003d datetime.today()",
      "metadata": {
        "pycharm": {
          "metadata": false,
          "name": "#%%\n",
          "is_executing": false
        }
      }
    },
    {
      "cell_type": "code",
      "execution_count": 48,
      "outputs": [
        {
          "data": {
            "text/plain": "datetime.timedelta(0, 21600)"
          },
          "metadata": {},
          "output_type": "execute_result",
          "execution_count": 48
        }
      ],
      "source": "eta",
      "metadata": {
        "pycharm": {
          "metadata": false,
          "name": "#%%\n",
          "is_executing": false
        }
      }
    },
    {
      "cell_type": "code",
      "execution_count": 49,
      "outputs": [
        {
          "data": {
            "text/plain": "datetime.datetime(2019, 4, 1, 21, 7, 52, 394548)"
          },
          "metadata": {},
          "output_type": "execute_result",
          "execution_count": 49
        }
      ],
      "source": "today",
      "metadata": {
        "pycharm": {
          "metadata": false,
          "name": "#%%\n",
          "is_executing": false
        }
      }
    },
    {
      "cell_type": "code",
      "execution_count": 50,
      "outputs": [
        {
          "data": {
            "text/plain": "datetime.datetime(2019, 4, 2, 3, 7, 52, 394548)"
          },
          "metadata": {},
          "output_type": "execute_result",
          "execution_count": 50
        }
      ],
      "source": "today + eta",
      "metadata": {
        "pycharm": {
          "metadata": false,
          "name": "#%%\n",
          "is_executing": false
        }
      }
    },
    {
      "cell_type": "code",
      "execution_count": 51,
      "outputs": [
        {
          "data": {
            "text/plain": "\u00272019-04-02 03:07:52.394548\u0027"
          },
          "metadata": {},
          "output_type": "execute_result",
          "execution_count": 51
        }
      ],
      "source": "str(today + eta)",
      "metadata": {
        "pycharm": {
          "metadata": false,
          "name": "#%%\n",
          "is_executing": false
        }
      }
    },
    {
      "cell_type": "code",
      "execution_count": 55,
      "outputs": [
        {
          "name": "stdout",
          "text": [
            "2010-01-01 18:48:14.631829\n2010-01-01 18:48:14.631829\n"
          ],
          "output_type": "stream"
        }
      ],
      "source": "s \u003d \"2010-01-01 18:48:14.631829\"\nprint(s)\ntest \u003d datetime.strptime(s, \"%Y-%m-%d %H:%M:%S.%f\")\nprint(test)",
      "metadata": {
        "pycharm": {
          "metadata": false,
          "name": "#%%\n",
          "is_executing": false
        }
      }
    },
    {
      "cell_type": "code",
      "execution_count": 59,
      "outputs": [
        {
          "name": "stdout",
          "text": [
            "Current year:  2019\nCurrent date and time:  2019-04-01 21:13:59.224809\nOr like this:  19-04-01-21-13\nOr like this:  19-04-01 21:13\nCurrent year:  2019\nMonth of year:  April\nWeek number of the year:  13\nWeekday of the week:  1\nDay of year:  091\nDay of the month :  01\nDay of week:  Monday\n"
          ],
          "output_type": "stream"
        }
      ],
      "source": "import datetime \n# import allows date.today(), otherwise have to write datetime.date.today()\nprint(\"Current year: \", date.today().strftime(\"%Y\"))\n\nprint(\"Current date and time: \" , datetime.datetime.now())\nprint(\"Or like this: \" ,datetime.datetime.now().strftime(\"%y-%m-%d-%H-%M\"))\nprint(\"Or like this: \" ,datetime.datetime.now().strftime(\"%y-%m-%d %H:%M\"))\n\nprint(\"Current year: \", datetime.date.today().strftime(\"%Y\"))\nprint(\"Month of year: \", datetime.date.today().strftime(\"%B\"))\nprint(\"Week number of the year: \", datetime.date.today().strftime(\"%W\"))\nprint(\"Weekday of the week: \", datetime.date.today().strftime(\"%w\"))\nprint(\"Day of year: \", datetime.date.today().strftime(\"%j\"))\nprint(\"Day of the month : \", datetime.date.today().strftime(\"%d\"))\nprint(\"Day of week: \", datetime.date.today().strftime(\"%A\"))",
      "metadata": {
        "pycharm": {
          "metadata": false,
          "name": "#%%\n",
          "is_executing": false
        }
      }
    },
    {
      "cell_type": "code",
      "execution_count": null,
      "outputs": [],
      "source": "\n",
      "metadata": {
        "pycharm": {
          "metadata": false,
          "name": "#%%\n"
        }
      }
    }
  ],
  "metadata": {
    "language_info": {
      "codemirror_mode": {
        "name": "ipython",
        "version": 2
      },
      "file_extension": ".py",
      "mimetype": "text/x-python",
      "name": "python",
      "nbconvert_exporter": "python",
      "pygments_lexer": "ipython2",
      "version": "2.7.6"
    },
    "kernelspec": {
      "name": "python3",
      "language": "python",
      "display_name": "Python 3"
    }
  },
  "nbformat": 4,
  "nbformat_minor": 0
}